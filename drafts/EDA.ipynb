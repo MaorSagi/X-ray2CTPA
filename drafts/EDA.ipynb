{
 "cells": [
  {
   "metadata": {},
   "cell_type": "markdown",
   "source": [
    "# EDA - ECG, CXR and CTPA Cohort\n",
    "\n",
    "Statistics and insight about the cohort and the dimensions before / after preprocessing."
   ],
   "id": "e98fda13cc28a3e9"
  },
  {
   "metadata": {},
   "cell_type": "markdown",
   "source": [
    "## CTPA\n",
    "\n",
    "1. Public cohorts - ~7200 records, 32% positive, The average CTPA scan has the highest resolution, with a series length of about 240 slices (512 x 512).\n",
    "2. Sheba Cohort - \n",
    "\n",
    "Cohort of 19K CTPA in total, was shrinked into ~9200 scans, one for patient.\n",
    "The dimensions \n",
    "\n",
    "Preprocess:\n",
    "\n",
    "1. Load all dicoms, extract the highest resolution series (longest) and filter CT which are in standard axial orientation.\n",
    "2. Extract scan attributes: thickness, spacing, position, orientation, slope and intercept.\n",
    "3. Convert scan pixels values into Housefield units. \n",
    "4. Get lung Volume of Interest (VOI) - crop the CT volume (new dims ~ 200 x 300 x 385), resample and resize into new dimensions (128 x 256 x 256), normalize and clipping into [-1,1] value range.\n",
    "5. Encode the CT using pretrained VAE, embedding shape (4, 32, 32, 128), scale latent space for ddpm (latents * 0.18215)\n",
    "\n"
   ],
   "id": "11a316d296199e71"
  },
  {
   "cell_type": "code",
   "execution_count": null,
   "id": "initial_id",
   "metadata": {
    "collapsed": true
   },
   "outputs": [],
   "source": [
    ""
   ]
  }
 ],
 "metadata": {
  "kernelspec": {
   "display_name": "Python 3",
   "language": "python",
   "name": "python3"
  },
  "language_info": {
   "codemirror_mode": {
    "name": "ipython",
    "version": 2
   },
   "file_extension": ".py",
   "mimetype": "text/x-python",
   "name": "python",
   "nbconvert_exporter": "python",
   "pygments_lexer": "ipython2",
   "version": "2.7.6"
  }
 },
 "nbformat": 4,
 "nbformat_minor": 5
}
